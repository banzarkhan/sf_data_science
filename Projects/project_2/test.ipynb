{
 "cells": [
  {
   "cell_type": "code",
   "execution_count": 3,
   "metadata": {},
   "outputs": [],
   "source": [
    "import pandas as pd\n",
    "import lxml"
   ]
  },
  {
   "cell_type": "code",
   "execution_count": 4,
   "metadata": {},
   "outputs": [
    {
     "ename": "ImportError",
     "evalue": "html5lib not found, please install it",
     "output_type": "error",
     "traceback": [
      "\u001b[1;31m---------------------------------------------------------------------------\u001b[0m",
      "\u001b[1;31mImportError\u001b[0m                               Traceback (most recent call last)",
      "\u001b[1;32mc:\\Users\\Ariuna\\IDE\\Projects\\project_2\\test.ipynb Ячейка 2\u001b[0m in \u001b[0;36m<cell line: 1>\u001b[1;34m()\u001b[0m\n\u001b[1;32m----> <a href='vscode-notebook-cell:/c%3A/Users/Ariuna/IDE/Projects/project_2/test.ipynb#W1sZmlsZQ%3D%3D?line=0'>1</a>\u001b[0m cities \u001b[39m=\u001b[39m pd\u001b[39m.\u001b[39;49mread_html(\u001b[39m'\u001b[39;49m\u001b[39mhttps://ru.wikipedia.org/wiki/\u001b[39;49m\u001b[39m%\u001b[39;49m\u001b[39mD0\u001b[39;49m\u001b[39m%93%\u001b[39;49;00m\u001b[39mD0\u001b[39;49m\u001b[39m%\u001b[39;49m\u001b[39mBE\u001b[39;49m\u001b[39m%\u001b[39;49m\u001b[39mD1\u001b[39;49m\u001b[39m%80%\u001b[39;49;00m\u001b[39mD0\u001b[39;49m\u001b[39m%\u001b[39;49m\u001b[39mBE\u001b[39;49m\u001b[39m%\u001b[39;49m\u001b[39mD0\u001b[39;49m\u001b[39m%\u001b[39;49m\u001b[39mB4\u001b[39;49m\u001b[39m%\u001b[39;49m\u001b[39mD0\u001b[39;49m\u001b[39m%\u001b[39;49m\u001b[39mB0-\u001b[39;49m\u001b[39m%\u001b[39;49m\u001b[39mD0\u001b[39;49m\u001b[39m%\u001b[39;49m\u001b[39mBC\u001b[39;49m\u001b[39m%\u001b[39;49m\u001b[39mD0\u001b[39;49m\u001b[39m%\u001b[39;49m\u001b[39mB8\u001b[39;49m\u001b[39m%\u001b[39;49m\u001b[39mD0\u001b[39;49m\u001b[39m%\u001b[39;49m\u001b[39mBB\u001b[39;49m\u001b[39m%\u001b[39;49m\u001b[39mD0\u001b[39;49m\u001b[39m%\u001b[39;49m\u001b[39mBB\u001b[39;49m\u001b[39m%\u001b[39;49m\u001b[39mD0\u001b[39;49m\u001b[39m%\u001b[39;49m\u001b[39mB8\u001b[39;49m\u001b[39m%\u001b[39;49m\u001b[39mD0\u001b[39;49m\u001b[39m%\u001b[39;49m\u001b[39mBE\u001b[39;49m\u001b[39m%\u001b[39;49m\u001b[39mD0\u001b[39;49m\u001b[39m%\u001b[39;49m\u001b[39mBD\u001b[39;49m\u001b[39m%\u001b[39;49m\u001b[39mD0\u001b[39;49m\u001b[39m%\u001b[39;49m\u001b[39mB5\u001b[39;49m\u001b[39m%\u001b[39;49m\u001b[39mD1\u001b[39;49m\u001b[39m%80%\u001b[39;49;00m\u001b[39mD1\u001b[39;49m\u001b[39m%\u001b[39;49m\u001b[39m8B_\u001b[39;49m\u001b[39m%\u001b[39;49m\u001b[39mD0\u001b[39;49m\u001b[39m%\u001b[39;49m\u001b[39mA0\u001b[39;49m\u001b[39m%\u001b[39;49m\u001b[39mD0\u001b[39;49m\u001b[39m%\u001b[39;49m\u001b[39mBE\u001b[39;49m\u001b[39m%\u001b[39;49m\u001b[39mD1\u001b[39;49m\u001b[39m%81%\u001b[39;49;00m\u001b[39mD1\u001b[39;49m\u001b[39m%81%\u001b[39;49;00m\u001b[39mD0\u001b[39;49m\u001b[39m%\u001b[39;49m\u001b[39mB8\u001b[39;49m\u001b[39m%\u001b[39;49m\u001b[39mD0\u001b[39;49m\u001b[39m%\u001b[39;49m\u001b[39mB8\u001b[39;49m\u001b[39m'\u001b[39;49m, match\u001b[39m=\u001b[39;49m\u001b[39m'\u001b[39;49m\u001b[39mСписок городов-миллионеров\u001b[39;49m\u001b[39m'\u001b[39;49m)\n",
      "File \u001b[1;32mc:\\Users\\Ariuna\\AppData\\Local\\Programs\\Python\\Python39\\lib\\site-packages\\pandas\\util\\_decorators.py:311\u001b[0m, in \u001b[0;36mdeprecate_nonkeyword_arguments.<locals>.decorate.<locals>.wrapper\u001b[1;34m(*args, **kwargs)\u001b[0m\n\u001b[0;32m    305\u001b[0m \u001b[39mif\u001b[39;00m \u001b[39mlen\u001b[39m(args) \u001b[39m>\u001b[39m num_allow_args:\n\u001b[0;32m    306\u001b[0m     warnings\u001b[39m.\u001b[39mwarn(\n\u001b[0;32m    307\u001b[0m         msg\u001b[39m.\u001b[39mformat(arguments\u001b[39m=\u001b[39marguments),\n\u001b[0;32m    308\u001b[0m         \u001b[39mFutureWarning\u001b[39;00m,\n\u001b[0;32m    309\u001b[0m         stacklevel\u001b[39m=\u001b[39mstacklevel,\n\u001b[0;32m    310\u001b[0m     )\n\u001b[1;32m--> 311\u001b[0m \u001b[39mreturn\u001b[39;00m func(\u001b[39m*\u001b[39margs, \u001b[39m*\u001b[39m\u001b[39m*\u001b[39mkwargs)\n",
      "File \u001b[1;32mc:\\Users\\Ariuna\\AppData\\Local\\Programs\\Python\\Python39\\lib\\site-packages\\pandas\\io\\html.py:1113\u001b[0m, in \u001b[0;36mread_html\u001b[1;34m(io, match, flavor, header, index_col, skiprows, attrs, parse_dates, thousands, encoding, decimal, converters, na_values, keep_default_na, displayed_only)\u001b[0m\n\u001b[0;32m   1109\u001b[0m validate_header_arg(header)\n\u001b[0;32m   1111\u001b[0m io \u001b[39m=\u001b[39m stringify_path(io)\n\u001b[1;32m-> 1113\u001b[0m \u001b[39mreturn\u001b[39;00m _parse(\n\u001b[0;32m   1114\u001b[0m     flavor\u001b[39m=\u001b[39;49mflavor,\n\u001b[0;32m   1115\u001b[0m     io\u001b[39m=\u001b[39;49mio,\n\u001b[0;32m   1116\u001b[0m     match\u001b[39m=\u001b[39;49mmatch,\n\u001b[0;32m   1117\u001b[0m     header\u001b[39m=\u001b[39;49mheader,\n\u001b[0;32m   1118\u001b[0m     index_col\u001b[39m=\u001b[39;49mindex_col,\n\u001b[0;32m   1119\u001b[0m     skiprows\u001b[39m=\u001b[39;49mskiprows,\n\u001b[0;32m   1120\u001b[0m     parse_dates\u001b[39m=\u001b[39;49mparse_dates,\n\u001b[0;32m   1121\u001b[0m     thousands\u001b[39m=\u001b[39;49mthousands,\n\u001b[0;32m   1122\u001b[0m     attrs\u001b[39m=\u001b[39;49mattrs,\n\u001b[0;32m   1123\u001b[0m     encoding\u001b[39m=\u001b[39;49mencoding,\n\u001b[0;32m   1124\u001b[0m     decimal\u001b[39m=\u001b[39;49mdecimal,\n\u001b[0;32m   1125\u001b[0m     converters\u001b[39m=\u001b[39;49mconverters,\n\u001b[0;32m   1126\u001b[0m     na_values\u001b[39m=\u001b[39;49mna_values,\n\u001b[0;32m   1127\u001b[0m     keep_default_na\u001b[39m=\u001b[39;49mkeep_default_na,\n\u001b[0;32m   1128\u001b[0m     displayed_only\u001b[39m=\u001b[39;49mdisplayed_only,\n\u001b[0;32m   1129\u001b[0m )\n",
      "File \u001b[1;32mc:\\Users\\Ariuna\\AppData\\Local\\Programs\\Python\\Python39\\lib\\site-packages\\pandas\\io\\html.py:915\u001b[0m, in \u001b[0;36m_parse\u001b[1;34m(flavor, io, match, attrs, encoding, displayed_only, **kwargs)\u001b[0m\n\u001b[0;32m    913\u001b[0m retained \u001b[39m=\u001b[39m \u001b[39mNone\u001b[39;00m\n\u001b[0;32m    914\u001b[0m \u001b[39mfor\u001b[39;00m flav \u001b[39min\u001b[39;00m flavor:\n\u001b[1;32m--> 915\u001b[0m     parser \u001b[39m=\u001b[39m _parser_dispatch(flav)\n\u001b[0;32m    916\u001b[0m     p \u001b[39m=\u001b[39m parser(io, compiled_match, attrs, encoding, displayed_only)\n\u001b[0;32m    918\u001b[0m     \u001b[39mtry\u001b[39;00m:\n",
      "File \u001b[1;32mc:\\Users\\Ariuna\\AppData\\Local\\Programs\\Python\\Python39\\lib\\site-packages\\pandas\\io\\html.py:864\u001b[0m, in \u001b[0;36m_parser_dispatch\u001b[1;34m(flavor)\u001b[0m\n\u001b[0;32m    862\u001b[0m \u001b[39mif\u001b[39;00m flavor \u001b[39min\u001b[39;00m (\u001b[39m\"\u001b[39m\u001b[39mbs4\u001b[39m\u001b[39m\"\u001b[39m, \u001b[39m\"\u001b[39m\u001b[39mhtml5lib\u001b[39m\u001b[39m\"\u001b[39m):\n\u001b[0;32m    863\u001b[0m     \u001b[39mif\u001b[39;00m \u001b[39mnot\u001b[39;00m _HAS_HTML5LIB:\n\u001b[1;32m--> 864\u001b[0m         \u001b[39mraise\u001b[39;00m \u001b[39mImportError\u001b[39;00m(\u001b[39m\"\u001b[39m\u001b[39mhtml5lib not found, please install it\u001b[39m\u001b[39m\"\u001b[39m)\n\u001b[0;32m    865\u001b[0m     \u001b[39mif\u001b[39;00m \u001b[39mnot\u001b[39;00m _HAS_BS4:\n\u001b[0;32m    866\u001b[0m         \u001b[39mraise\u001b[39;00m \u001b[39mImportError\u001b[39;00m(\u001b[39m\"\u001b[39m\u001b[39mBeautifulSoup4 (bs4) not found, please install it\u001b[39m\u001b[39m\"\u001b[39m)\n",
      "\u001b[1;31mImportError\u001b[0m: html5lib not found, please install it"
     ]
    }
   ],
   "source": [
    "cities = pd.read_html('https://ru.wikipedia.org/wiki/%D0%93%D0%BE%D1%80%D0%BE%D0%B4%D0%B0-%D0%BC%D0%B8%D0%BB%D0%BB%D0%B8%D0%BE%D0%BD%D0%B5%D1%80%D1%8B_%D0%A0%D0%BE%D1%81%D1%81%D0%B8%D0%B8', match='Список городов-миллионеров')"
   ]
  }
 ],
 "metadata": {
  "kernelspec": {
   "display_name": "Python 3.9.10 64-bit",
   "language": "python",
   "name": "python3"
  },
  "language_info": {
   "codemirror_mode": {
    "name": "ipython",
    "version": 3
   },
   "file_extension": ".py",
   "mimetype": "text/x-python",
   "name": "python",
   "nbconvert_exporter": "python",
   "pygments_lexer": "ipython3",
   "version": "3.9.10"
  },
  "orig_nbformat": 4,
  "vscode": {
   "interpreter": {
    "hash": "ca43319e1f580507c3f4b2cf8d53466fece0691c153e2d58a6ba22702d45cf5b"
   }
  }
 },
 "nbformat": 4,
 "nbformat_minor": 2
}
